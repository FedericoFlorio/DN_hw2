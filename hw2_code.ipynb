{
 "cells": [
  {
   "cell_type": "code",
   "execution_count": 1,
   "metadata": {},
   "outputs": [],
   "source": [
    "using Revise, LinearAlgebra, BlockArrays, Statistics, PyPlot\n",
    "includet(\"hw1_functions.jl\")"
   ]
  },
  {
   "cell_type": "code",
   "execution_count": 2,
   "metadata": {},
   "outputs": [
    {
     "data": {
      "text/plain": [
       "french_de_groot (generic function with 1 method)"
      ]
     },
     "metadata": {},
     "output_type": "display_data"
    }
   ],
   "source": [
    "function barbell(n)\n",
    "    W1 = Float64.(ones(n,n) - I)\n",
    "    W = BlockArray{Float64}(undef_blocks, [n,n], [n,n])\n",
    "    setblock!(W,W1,1,1)\n",
    "    setblock!(W,W1,2,2)\n",
    "    setblock!(W,zeros(n,n),1,2)\n",
    "    setblock!(W,zeros(n,n),2,1)\n",
    "    W = Array(W)\n",
    "    W[1,2*n], W[2*n,1] = 1.0, 1.0;\n",
    "\n",
    "    return  Graph(W)\n",
    "end\n",
    "\n",
    "exponential(r) = -log(rand())/r     # sampler for exponential distribution of rate r (inverse cumulative method)\n",
    "∂(A,i) = A.rowval[nzrange(A,i)]     # returns the out neighbours of node i\n",
    "\n",
    "function french_de_groot(P, x0, T; stats = (t,x)->println(\"$t $x\"), ϵ=1e-6)\n",
    "    stop(x,X,eps) = (norm(x-X)/norm(X) ≤ eps)\n",
    "    N = length(x0)\n",
    "\n",
    "    function simulation(P, x0, T, stats, ϵ)\n",
    "        x = x0\n",
    "        t = 0\n",
    "\n",
    "        while true\n",
    "            x0 = x\n",
    "            x = P*x0\n",
    "            t += 1\n",
    "            stats(t,x)\n",
    "            (stop(x,x0,ϵ) || t≥T) && break\n",
    "        end\n",
    "        return t\n",
    "    end\n",
    "    return simulation(P, x0, T, stats, ϵ)\n",
    "end"
   ]
  },
  {
   "cell_type": "code",
   "execution_count": 4,
   "metadata": {},
   "outputs": [
    {
     "name": "stdout",
     "output_type": "stream",
     "text": [
      "[50, 100, 150, 200, 250, 300, 350, 400]\n",
      "[5, 5, 4, 4, 4, 4, 4, 4]\n"
     ]
    },
    {
     "data": {
      "image/png": "[encoded data removed]",
      "text/plain": [
       "Figure(PyObject <Figure size 640x480 with 1 Axes>)"
      ]
     },
     "metadata": {},
     "output_type": "display_data"
    }
   ],
   "source": [
    "nstart = 6\n",
    "nstop = 10\n",
    "niter = 100\n",
    "T = 1e3\n",
    "\n",
    "# nn = [2^i for i in nstart:nstop]\n",
    "nn_x = [50; 100; 150; 200; 250; 300; 350; 400]\n",
    "tt_x = Vector{Int}(undef,length(nn_x))\n",
    "\n",
    "function do_nothing(t,x)\n",
    "    return nothing\n",
    "end\n",
    "\n",
    "for n in nn_x\n",
    "    G = barbell(n)\n",
    "    times_abs = Vector{Int}(undef,niter)\n",
    "    x_in = [(mod(i,2)==0 ? 0 : 1) for i in 1:2*n]\n",
    "\n",
    "    tt_x[searchsortedfirst(nn_x,n)] = french_de_groot(G.P, x_in, T, stats=do_nothing)\n",
    "end\n",
    "\n",
    "println(nn_x)\n",
    "println(tt_x)\n",
    "plot(nn_x,tt_x)\n",
    "ylim([0,10])\n",
    "gcf()"
   ]
  },
  {
   "cell_type": "code",
   "execution_count": 7,
   "metadata": {},
   "outputs": [],
   "source": [
    "nstart = 6\n",
    "nstop = 8\n",
    "niter = 100\n",
    "T = 1e6\n",
    "\n",
    "# nn = [2^i for i in nstart:nstop]\n",
    "nn_y = [50; 100; 150; 200; 250; 300; 350; 400; 450; 500; 550; 600; 650; 700]\n",
    "tt_y = Vector{Int}(undef,length(nn_y))\n",
    "\n",
    "function do_nothing(t,x)\n",
    "    return nothing\n",
    "end\n",
    "\n",
    "for n in nn_y\n",
    "    G = barbell(n)\n",
    "    times_abs = Vector{Int}(undef,niter)\n",
    "    y_in = [ones(n); zeros(n)]\n",
    "\n",
    "    tt_y[searchsortedfirst(nn_y,n)] = french_de_groot(G.P, y_in, T, stats=do_nothing)\n",
    "end\n",
    "\n",
    "println(nn_y)\n",
    "println(tt_y)\n",
    "a = tt_y./((nn_y./2).^2)\n",
    "println(a)\n",
    "\n",
    "close(\"all\")\n",
    "plot(nn_y,tt_y)\n",
    "gcf()"
   ]
  }
 ],
 "metadata": {
  "kernelspec": {
   "display_name": "Julia 1.8.1",
   "language": "julia",
   "name": "julia-1.8"
  },
  "language_info": {
   "file_extension": ".jl",
   "mimetype": "application/julia",
   "name": "julia",
   "version": "1.8.1"
  }
 },
 "nbformat": 4,
 "nbformat_minor": 2
}
